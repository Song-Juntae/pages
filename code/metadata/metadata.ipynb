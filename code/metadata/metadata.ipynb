{
 "cells": [
  {
   "cell_type": "code",
   "execution_count": 1,
   "metadata": {},
   "outputs": [
    {
     "name": "stdout",
     "output_type": "stream",
     "text": [
      "/home/sjt/space/github-page/code/metadata\n"
     ]
    }
   ],
   "source": [
    "!pwd"
   ]
  },
  {
   "cell_type": "code",
   "execution_count": 2,
   "metadata": {},
   "outputs": [],
   "source": [
    "import os\n",
    "import pandas as pd"
   ]
  },
  {
   "cell_type": "code",
   "execution_count": 3,
   "metadata": {},
   "outputs": [],
   "source": [
    "book = pd.read_csv('/home/sjt/space/github-page/data/media/책.tsv', sep='\\t')"
   ]
  },
  {
   "cell_type": "code",
   "execution_count": 4,
   "metadata": {},
   "outputs": [
    {
     "data": {
      "text/html": [
       "<div>\n",
       "<style scoped>\n",
       "    .dataframe tbody tr th:only-of-type {\n",
       "        vertical-align: middle;\n",
       "    }\n",
       "\n",
       "    .dataframe tbody tr th {\n",
       "        vertical-align: top;\n",
       "    }\n",
       "\n",
       "    .dataframe thead th {\n",
       "        text-align: right;\n",
       "    }\n",
       "</style>\n",
       "<table border=\"1\" class=\"dataframe\">\n",
       "  <thead>\n",
       "    <tr style=\"text-align: right;\">\n",
       "      <th></th>\n",
       "      <th>isbn</th>\n",
       "      <th>제목</th>\n",
       "      <th>분류</th>\n",
       "      <th>완독 여부</th>\n",
       "    </tr>\n",
       "  </thead>\n",
       "  <tbody>\n",
       "    <tr>\n",
       "      <th>0</th>\n",
       "      <td>978-89-449-8469-3</td>\n",
       "      <td>식물과학의 이해</td>\n",
       "      <td>생명과학</td>\n",
       "      <td>0</td>\n",
       "    </tr>\n",
       "    <tr>\n",
       "      <th>1</th>\n",
       "      <td>979-11-5943-187-6</td>\n",
       "      <td>유전체 데이터 분석 2</td>\n",
       "      <td>생명과학</td>\n",
       "      <td>0</td>\n",
       "    </tr>\n",
       "    <tr>\n",
       "      <th>2</th>\n",
       "      <td>979-11-6226-354-9</td>\n",
       "      <td>언어와 언어학</td>\n",
       "      <td>언어</td>\n",
       "      <td>0</td>\n",
       "    </tr>\n",
       "    <tr>\n",
       "      <th>3</th>\n",
       "      <td>979-11-85305-94-3</td>\n",
       "      <td>유전체데이터분석1</td>\n",
       "      <td>생명과학</td>\n",
       "      <td>0</td>\n",
       "    </tr>\n",
       "    <tr>\n",
       "      <th>4</th>\n",
       "      <td>979-11-5664-575-9</td>\n",
       "      <td>쉽게 배우는 자료구조 with 파이썬</td>\n",
       "      <td>정보/통신</td>\n",
       "      <td>0</td>\n",
       "    </tr>\n",
       "    <tr>\n",
       "      <th>...</th>\n",
       "      <td>...</td>\n",
       "      <td>...</td>\n",
       "      <td>...</td>\n",
       "      <td>...</td>\n",
       "    </tr>\n",
       "    <tr>\n",
       "      <th>106</th>\n",
       "      <td>NaN</td>\n",
       "      <td>파이썬 웹 프로그래밍</td>\n",
       "      <td>정보/통신</td>\n",
       "      <td>0</td>\n",
       "    </tr>\n",
       "    <tr>\n",
       "      <th>107</th>\n",
       "      <td>NaN</td>\n",
       "      <td>파이썬으로 웹 크롤러 만들기</td>\n",
       "      <td>정보/통신</td>\n",
       "      <td>0</td>\n",
       "    </tr>\n",
       "    <tr>\n",
       "      <th>108</th>\n",
       "      <td>NaN</td>\n",
       "      <td>파이썬 데이터 사이언스 핸드북</td>\n",
       "      <td>정보/통신</td>\n",
       "      <td>0</td>\n",
       "    </tr>\n",
       "    <tr>\n",
       "      <th>109</th>\n",
       "      <td>NaN</td>\n",
       "      <td>유닉스 이론과 실습</td>\n",
       "      <td>정보/통신</td>\n",
       "      <td>0</td>\n",
       "    </tr>\n",
       "    <tr>\n",
       "      <th>110</th>\n",
       "      <td>NaN</td>\n",
       "      <td>노화의 종말</td>\n",
       "      <td>문학</td>\n",
       "      <td>0</td>\n",
       "    </tr>\n",
       "  </tbody>\n",
       "</table>\n",
       "<p>111 rows × 4 columns</p>\n",
       "</div>"
      ],
      "text/plain": [
       "                  isbn                    제목     분류  완독 여부\n",
       "0    978-89-449-8469-3              식물과학의 이해   생명과학      0\n",
       "1    979-11-5943-187-6          유전체 데이터 분석 2   생명과학      0\n",
       "2    979-11-6226-354-9               언어와 언어학     언어      0\n",
       "3    979-11-85305-94-3             유전체데이터분석1   생명과학      0\n",
       "4    979-11-5664-575-9  쉽게 배우는 자료구조 with 파이썬  정보/통신      0\n",
       "..                 ...                   ...    ...    ...\n",
       "106                NaN           파이썬 웹 프로그래밍  정보/통신      0\n",
       "107                NaN       파이썬으로 웹 크롤러 만들기  정보/통신      0\n",
       "108                NaN      파이썬 데이터 사이언스 핸드북  정보/통신      0\n",
       "109                NaN            유닉스 이론과 실습  정보/통신      0\n",
       "110                NaN                노화의 종말     문학      0\n",
       "\n",
       "[111 rows x 4 columns]"
      ]
     },
     "execution_count": 4,
     "metadata": {},
     "output_type": "execute_result"
    }
   ],
   "source": [
    "book"
   ]
  },
  {
   "cell_type": "code",
   "execution_count": 44,
   "metadata": {},
   "outputs": [
    {
     "data": {
      "text/html": [
       "<div>\n",
       "<style scoped>\n",
       "    .dataframe tbody tr th:only-of-type {\n",
       "        vertical-align: middle;\n",
       "    }\n",
       "\n",
       "    .dataframe tbody tr th {\n",
       "        vertical-align: top;\n",
       "    }\n",
       "\n",
       "    .dataframe thead th {\n",
       "        text-align: right;\n",
       "    }\n",
       "</style>\n",
       "<table border=\"1\" class=\"dataframe\">\n",
       "  <thead>\n",
       "    <tr style=\"text-align: right;\">\n",
       "      <th></th>\n",
       "      <th>isbn</th>\n",
       "      <th>제목</th>\n",
       "      <th>분류</th>\n",
       "      <th>완독 여부</th>\n",
       "    </tr>\n",
       "  </thead>\n",
       "  <tbody>\n",
       "    <tr>\n",
       "      <th>30</th>\n",
       "      <td>NaN</td>\n",
       "      <td>데미안</td>\n",
       "      <td>문학</td>\n",
       "      <td>1</td>\n",
       "    </tr>\n",
       "  </tbody>\n",
       "</table>\n",
       "</div>"
      ],
      "text/plain": [
       "   isbn   제목  분류  완독 여부\n",
       "30  NaN  데미안  문학      1"
      ]
     },
     "execution_count": 44,
     "metadata": {},
     "output_type": "execute_result"
    }
   ],
   "source": [
    "book[book['제목'].str.contains('데미안')]"
   ]
  },
  {
   "cell_type": "code",
   "execution_count": null,
   "metadata": {},
   "outputs": [],
   "source": [
    "천번을 흔들려야 어른이 된다\n",
    "참을 수 없는 존재의 가벼움\n",
    "이야기 인문학\n",
    "친절한 인문학 길잡이\n",
    "나는 세계일주로 경제를 배웠다\n",
    "하버드의 생각수업\n",
    "마시멜로 이야기\n",
    "시를 잊은 그대에게\n",
    "홍길동전\n",
    "호밀밭의 파수꾼\n",
    "하악하악\n",
    "위너 브레인\n",
    "마음을 움직이는 승부사 제갈량\n",
    "새장에 갇힌 새가 왜 노래하는지 나는 아네\n"
   ]
  }
 ],
 "metadata": {
  "kernelspec": {
   "display_name": "sjt",
   "language": "python",
   "name": "python3"
  },
  "language_info": {
   "codemirror_mode": {
    "name": "ipython",
    "version": 3
   },
   "file_extension": ".py",
   "mimetype": "text/x-python",
   "name": "python",
   "nbconvert_exporter": "python",
   "pygments_lexer": "ipython3",
   "version": "3.11.0"
  },
  "orig_nbformat": 4
 },
 "nbformat": 4,
 "nbformat_minor": 2
}
